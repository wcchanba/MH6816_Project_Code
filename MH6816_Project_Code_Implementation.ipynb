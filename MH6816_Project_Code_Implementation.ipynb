{
  "nbformat": 4,
  "nbformat_minor": 0,
  "metadata": {
    "colab": {
      "provenance": []
    },
    "kernelspec": {
      "name": "python3",
      "display_name": "Python 3"
    },
    "language_info": {
      "name": "python"
    }
  },
  "cells": [
    {
      "cell_type": "code",
      "execution_count": null,
      "metadata": {
        "colab": {
          "base_uri": "https://localhost:8080/"
        },
        "id": "EZ66Jt-oOvtM",
        "outputId": "7634df07-7aca-4bbd-d800-d96609c379c6"
      },
      "outputs": [
        {
          "output_type": "stream",
          "name": "stdout",
          "text": [
            "Collecting pycryptodome\n",
            "  Downloading pycryptodome-3.21.0-cp36-abi3-manylinux_2_17_x86_64.manylinux2014_x86_64.whl.metadata (3.4 kB)\n",
            "Downloading pycryptodome-3.21.0-cp36-abi3-manylinux_2_17_x86_64.manylinux2014_x86_64.whl (2.3 MB)\n",
            "\u001b[2K   \u001b[90m━━━━━━━━━━━━━━━━━━━━━━━━━━━━━━━━━━━━━━━━\u001b[0m \u001b[32m2.3/2.3 MB\u001b[0m \u001b[31m17.7 MB/s\u001b[0m eta \u001b[36m0:00:00\u001b[0m\n",
            "\u001b[?25hInstalling collected packages: pycryptodome\n",
            "Successfully installed pycryptodome-3.21.0\n"
          ]
        }
      ],
      "source": [
        "pip install pycryptodome"
      ]
    },
    {
      "cell_type": "code",
      "source": [
        "import os\n",
        "\n",
        "def generate_random_data(size_in_bytes):\n",
        "    return os.urandom(size_in_bytes)\n",
        "\n",
        "data_dict = {}\n",
        "\n",
        "sizes = [1, 4, 8, 16, 32, 64, 128, 256, 512, 1024, 2048, 4096, 8192,\n",
        "         16384, 32768, 65536, 131072, 262144, 524288, 1048576, 2097152,\n",
        "         4194304, 8388608, 16777216, 33554432, 67108864, 134217728]\n",
        "\n",
        "for size in sizes:\n",
        "    data_dict[size] = generate_random_data(size)\n",
        "    print(f\"Size: {size} bytes, Data Length: {len(data_dict[size])} bytes\")"
      ],
      "metadata": {
        "colab": {
          "base_uri": "https://localhost:8080/"
        },
        "id": "tYCYx3_1PPNB",
        "outputId": "5c86e356-545a-48be-ff46-7d0e47e5687c"
      },
      "execution_count": null,
      "outputs": [
        {
          "output_type": "stream",
          "name": "stdout",
          "text": [
            "Size: 1 bytes, Data Length: 1 bytes\n",
            "Size: 4 bytes, Data Length: 4 bytes\n",
            "Size: 8 bytes, Data Length: 8 bytes\n",
            "Size: 16 bytes, Data Length: 16 bytes\n",
            "Size: 32 bytes, Data Length: 32 bytes\n",
            "Size: 64 bytes, Data Length: 64 bytes\n",
            "Size: 128 bytes, Data Length: 128 bytes\n",
            "Size: 256 bytes, Data Length: 256 bytes\n",
            "Size: 512 bytes, Data Length: 512 bytes\n",
            "Size: 1024 bytes, Data Length: 1024 bytes\n",
            "Size: 2048 bytes, Data Length: 2048 bytes\n",
            "Size: 4096 bytes, Data Length: 4096 bytes\n",
            "Size: 8192 bytes, Data Length: 8192 bytes\n",
            "Size: 16384 bytes, Data Length: 16384 bytes\n",
            "Size: 32768 bytes, Data Length: 32768 bytes\n",
            "Size: 65536 bytes, Data Length: 65536 bytes\n",
            "Size: 131072 bytes, Data Length: 131072 bytes\n",
            "Size: 262144 bytes, Data Length: 262144 bytes\n",
            "Size: 524288 bytes, Data Length: 524288 bytes\n",
            "Size: 1048576 bytes, Data Length: 1048576 bytes\n",
            "Size: 2097152 bytes, Data Length: 2097152 bytes\n",
            "Size: 4194304 bytes, Data Length: 4194304 bytes\n",
            "Size: 8388608 bytes, Data Length: 8388608 bytes\n",
            "Size: 16777216 bytes, Data Length: 16777216 bytes\n",
            "Size: 33554432 bytes, Data Length: 33554432 bytes\n",
            "Size: 67108864 bytes, Data Length: 67108864 bytes\n",
            "Size: 134217728 bytes, Data Length: 134217728 bytes\n"
          ]
        }
      ]
    },
    {
      "cell_type": "code",
      "source": [
        "import time\n",
        "from Crypto.Cipher import DES, AES\n",
        "from Crypto.Util.Padding import pad, unpad\n",
        "\n",
        "# DES\n",
        "def des_encrypt(key, data):\n",
        "    cipher = DES.new(key, DES.MODE_ECB)\n",
        "    return cipher.encrypt(pad(data, DES.block_size))\n",
        "\n",
        "def des_decrypt(key, encrypted_data):\n",
        "    cipher = DES.new(key, DES.MODE_ECB)\n",
        "    return unpad(cipher.decrypt(encrypted_data), DES.block_size)\n",
        "\n",
        "des_key = os.urandom(8)\n",
        "\n",
        "print(\"\\n--- DES Encryption/Decryption Tests ---\")\n",
        "for size in sizes:\n",
        "    data = data_dict[size]\n",
        "    start_time = time.time()\n",
        "    encrypted_data = des_encrypt(des_key, data)\n",
        "    encrypt_time = time.time() - start_time\n",
        "\n",
        "    start_time = time.time()\n",
        "    decrypted_data = des_decrypt(des_key, encrypted_data)\n",
        "    decrypt_time = time.time() - start_time\n",
        "\n",
        "    assert decrypted_data == data, \"DES decryption mismatch!\"\n",
        "    print(f\"Size {size} | Encrypt Time: {encrypt_time:.6f}s | Decrypt Time: {decrypt_time:.6f}s\")"
      ],
      "metadata": {
        "colab": {
          "base_uri": "https://localhost:8080/"
        },
        "id": "mRWU5XCoPXEU",
        "outputId": "07324dff-c9e4-4337-83d0-6018b66bf864"
      },
      "execution_count": null,
      "outputs": [
        {
          "output_type": "stream",
          "name": "stdout",
          "text": [
            "\n",
            "--- DES Encryption/Decryption Tests ---\n",
            "Size 1 | Encrypt Time: 0.007071s | Decrypt Time: 0.000164s\n",
            "Size 4 | Encrypt Time: 0.000110s | Decrypt Time: 0.000055s\n",
            "Size 8 | Encrypt Time: 0.000745s | Decrypt Time: 0.000057s\n",
            "Size 16 | Encrypt Time: 0.000058s | Decrypt Time: 0.000066s\n",
            "Size 32 | Encrypt Time: 0.000044s | Decrypt Time: 0.001255s\n",
            "Size 64 | Encrypt Time: 0.000054s | Decrypt Time: 0.000041s\n",
            "Size 128 | Encrypt Time: 0.000067s | Decrypt Time: 0.000037s\n",
            "Size 256 | Encrypt Time: 0.000050s | Decrypt Time: 0.000047s\n",
            "Size 512 | Encrypt Time: 0.000045s | Decrypt Time: 0.000041s\n",
            "Size 1024 | Encrypt Time: 0.000058s | Decrypt Time: 0.000055s\n",
            "Size 2048 | Encrypt Time: 0.000074s | Decrypt Time: 0.000073s\n",
            "Size 4096 | Encrypt Time: 0.000118s | Decrypt Time: 0.000135s\n",
            "Size 8192 | Encrypt Time: 0.000245s | Decrypt Time: 0.000205s\n",
            "Size 16384 | Encrypt Time: 0.000413s | Decrypt Time: 0.004395s\n",
            "Size 32768 | Encrypt Time: 0.000824s | Decrypt Time: 0.000782s\n",
            "Size 65536 | Encrypt Time: 0.002882s | Decrypt Time: 0.001669s\n",
            "Size 131072 | Encrypt Time: 0.003206s | Decrypt Time: 0.003992s\n",
            "Size 262144 | Encrypt Time: 0.007726s | Decrypt Time: 0.007838s\n",
            "Size 524288 | Encrypt Time: 0.014795s | Decrypt Time: 0.016867s\n",
            "Size 1048576 | Encrypt Time: 0.032374s | Decrypt Time: 0.032770s\n",
            "Size 2097152 | Encrypt Time: 0.076503s | Decrypt Time: 0.062665s\n",
            "Size 4194304 | Encrypt Time: 0.133248s | Decrypt Time: 0.203112s\n",
            "Size 8388608 | Encrypt Time: 0.343685s | Decrypt Time: 0.381167s\n",
            "Size 16777216 | Encrypt Time: 1.100275s | Decrypt Time: 1.151391s\n",
            "Size 33554432 | Encrypt Time: 2.383568s | Decrypt Time: 2.058038s\n",
            "Size 67108864 | Encrypt Time: 2.311682s | Decrypt Time: 1.647725s\n",
            "Size 134217728 | Encrypt Time: 3.413157s | Decrypt Time: 3.733177s\n"
          ]
        }
      ]
    },
    {
      "cell_type": "code",
      "source": [
        "# AES\n",
        "def aes_encrypt(key, data):\n",
        "    cipher = AES.new(key, AES.MODE_ECB)\n",
        "    return cipher.encrypt(pad(data, AES.block_size))\n",
        "\n",
        "def aes_decrypt(key, encrypted_data):\n",
        "    cipher = AES.new(key, AES.MODE_ECB)\n",
        "    return unpad(cipher.decrypt(encrypted_data), AES.block_size)\n",
        "\n",
        "aes_key = os.urandom(16)\n",
        "\n",
        "print(\"\\n--- AES Encryption/Decryption Tests ---\")\n",
        "for size in sizes:\n",
        "    data = data_dict[size]\n",
        "    start_time = time.time()\n",
        "    encrypted_data = aes_encrypt(aes_key, data)\n",
        "    encrypt_time = time.time() - start_time\n",
        "\n",
        "    start_time = time.time()\n",
        "    decrypted_data = aes_decrypt(aes_key, encrypted_data)\n",
        "    decrypt_time = time.time() - start_time\n",
        "\n",
        "    assert decrypted_data == data, \"AES decryption mismatch!\"\n",
        "    print(f\"Size {size} | Encrypt Time: {encrypt_time:.6f}s | Decrypt Time: {decrypt_time:.6f}s\")"
      ],
      "metadata": {
        "colab": {
          "base_uri": "https://localhost:8080/"
        },
        "id": "2Xvg5mh8QLlZ",
        "outputId": "1ec6a260-5940-4be8-a28c-54c1d267a501"
      },
      "execution_count": null,
      "outputs": [
        {
          "output_type": "stream",
          "name": "stdout",
          "text": [
            "\n",
            "--- AES Encryption/Decryption Tests ---\n",
            "Size 1 | Encrypt Time: 0.000361s | Decrypt Time: 0.028942s\n",
            "Size 4 | Encrypt Time: 0.000126s | Decrypt Time: 0.000041s\n",
            "Size 8 | Encrypt Time: 0.000084s | Decrypt Time: 0.000035s\n",
            "Size 16 | Encrypt Time: 0.000073s | Decrypt Time: 0.000044s\n",
            "Size 32 | Encrypt Time: 0.000064s | Decrypt Time: 0.000032s\n",
            "Size 64 | Encrypt Time: 0.000063s | Decrypt Time: 0.000031s\n",
            "Size 128 | Encrypt Time: 0.000059s | Decrypt Time: 0.000031s\n",
            "Size 256 | Encrypt Time: 0.000062s | Decrypt Time: 0.000034s\n",
            "Size 512 | Encrypt Time: 0.000041s | Decrypt Time: 0.000071s\n",
            "Size 1024 | Encrypt Time: 0.000064s | Decrypt Time: 0.000033s\n",
            "Size 2048 | Encrypt Time: 0.000073s | Decrypt Time: 0.000033s\n",
            "Size 4096 | Encrypt Time: 0.000090s | Decrypt Time: 0.000070s\n",
            "Size 8192 | Encrypt Time: 0.000066s | Decrypt Time: 0.001311s\n",
            "Size 16384 | Encrypt Time: 0.000063s | Decrypt Time: 0.000037s\n",
            "Size 32768 | Encrypt Time: 0.000055s | Decrypt Time: 0.000038s\n",
            "Size 65536 | Encrypt Time: 0.000082s | Decrypt Time: 0.000048s\n",
            "Size 131072 | Encrypt Time: 0.000200s | Decrypt Time: 0.000078s\n",
            "Size 262144 | Encrypt Time: 0.000265s | Decrypt Time: 0.000132s\n",
            "Size 524288 | Encrypt Time: 0.005839s | Decrypt Time: 0.000961s\n",
            "Size 1048576 | Encrypt Time: 0.002723s | Decrypt Time: 0.001405s\n",
            "Size 2097152 | Encrypt Time: 0.005265s | Decrypt Time: 0.003303s\n",
            "Size 4194304 | Encrypt Time: 0.012218s | Decrypt Time: 0.004128s\n",
            "Size 8388608 | Encrypt Time: 0.027122s | Decrypt Time: 0.008181s\n",
            "Size 16777216 | Encrypt Time: 0.096833s | Decrypt Time: 0.022262s\n",
            "Size 33554432 | Encrypt Time: 0.166778s | Decrypt Time: 0.104550s\n",
            "Size 67108864 | Encrypt Time: 0.358137s | Decrypt Time: 0.339305s\n",
            "Size 134217728 | Encrypt Time: 0.655614s | Decrypt Time: 0.614295s\n"
          ]
        }
      ]
    },
    {
      "cell_type": "code",
      "source": [
        "from Crypto.PublicKey import RSA\n",
        "from Crypto.Cipher import PKCS1_OAEP\n",
        "\n",
        "rsa_key = RSA.generate(2048)\n",
        "\n",
        "rsa_public_key = rsa_key.publickey()\n",
        "rsa_cipher_encrypt = PKCS1_OAEP.new(rsa_public_key)\n",
        "rsa_cipher_decrypt = PKCS1_OAEP.new(rsa_key)\n",
        "\n",
        "rsa_limit = 214\n",
        "\n",
        "print(\"\\n--- RSA Encryption/Decryption Tests ---\")\n",
        "for size in sizes:\n",
        "    data = data_dict[size]\n",
        "\n",
        "    if len(data) > rsa_limit:\n",
        "        print(f\"Size {size} bytes - Skipped (Exceeds RSA limit of {rsa_limit} bytes)\")\n",
        "        continue\n",
        "\n",
        "    start_time = time.time()\n",
        "    encrypted_data = rsa_cipher_encrypt.encrypt(data)\n",
        "    encrypt_time = time.time() - start_time\n",
        "\n",
        "    start_time = time.time()\n",
        "    decrypted_data = rsa_cipher_decrypt.decrypt(encrypted_data)\n",
        "    decrypt_time = time.time() - start_time\n",
        "\n",
        "    assert decrypted_data == data, \"RSA decryption mismatch!\"\n",
        "    print(f\"Size {size} | Encrypt Time: {encrypt_time:.6f}s | Decrypt Time: {decrypt_time:.6f}s\")"
      ],
      "metadata": {
        "colab": {
          "base_uri": "https://localhost:8080/"
        },
        "id": "FSEpQDsvQn9c",
        "outputId": "95aaa06c-8632-44f3-edc5-5a9f6c3f5321"
      },
      "execution_count": null,
      "outputs": [
        {
          "output_type": "stream",
          "name": "stdout",
          "text": [
            "\n",
            "--- RSA Encryption/Decryption Tests ---\n",
            "Size 1 | Encrypt Time: 0.004534s | Decrypt Time: 0.008806s\n",
            "Size 4 | Encrypt Time: 0.002064s | Decrypt Time: 0.006955s\n",
            "Size 8 | Encrypt Time: 0.001621s | Decrypt Time: 0.004232s\n",
            "Size 16 | Encrypt Time: 0.001386s | Decrypt Time: 0.004036s\n",
            "Size 32 | Encrypt Time: 0.001429s | Decrypt Time: 0.004240s\n",
            "Size 64 | Encrypt Time: 0.002029s | Decrypt Time: 0.004097s\n",
            "Size 128 | Encrypt Time: 0.001349s | Decrypt Time: 0.003768s\n",
            "Size 256 bytes - Skipped (Exceeds RSA limit of 214 bytes)\n",
            "Size 512 bytes - Skipped (Exceeds RSA limit of 214 bytes)\n",
            "Size 1024 bytes - Skipped (Exceeds RSA limit of 214 bytes)\n",
            "Size 2048 bytes - Skipped (Exceeds RSA limit of 214 bytes)\n",
            "Size 4096 bytes - Skipped (Exceeds RSA limit of 214 bytes)\n",
            "Size 8192 bytes - Skipped (Exceeds RSA limit of 214 bytes)\n",
            "Size 16384 bytes - Skipped (Exceeds RSA limit of 214 bytes)\n",
            "Size 32768 bytes - Skipped (Exceeds RSA limit of 214 bytes)\n",
            "Size 65536 bytes - Skipped (Exceeds RSA limit of 214 bytes)\n",
            "Size 131072 bytes - Skipped (Exceeds RSA limit of 214 bytes)\n",
            "Size 262144 bytes - Skipped (Exceeds RSA limit of 214 bytes)\n",
            "Size 524288 bytes - Skipped (Exceeds RSA limit of 214 bytes)\n",
            "Size 1048576 bytes - Skipped (Exceeds RSA limit of 214 bytes)\n",
            "Size 2097152 bytes - Skipped (Exceeds RSA limit of 214 bytes)\n",
            "Size 4194304 bytes - Skipped (Exceeds RSA limit of 214 bytes)\n",
            "Size 8388608 bytes - Skipped (Exceeds RSA limit of 214 bytes)\n",
            "Size 16777216 bytes - Skipped (Exceeds RSA limit of 214 bytes)\n",
            "Size 33554432 bytes - Skipped (Exceeds RSA limit of 214 bytes)\n",
            "Size 67108864 bytes - Skipped (Exceeds RSA limit of 214 bytes)\n",
            "Size 134217728 bytes - Skipped (Exceeds RSA limit of 214 bytes)\n"
          ]
        }
      ]
    },
    {
      "cell_type": "code",
      "source": [
        "rsa_key = RSA.generate(4096)\n",
        "\n",
        "rsa_public_key = rsa_key.publickey()\n",
        "rsa_cipher_encrypt = PKCS1_OAEP.new(rsa_public_key)\n",
        "rsa_cipher_decrypt = PKCS1_OAEP.new(rsa_key)\n",
        "\n",
        "rsa_limit = 470\n",
        "\n",
        "print(\"\\n--- RSA Encryption/Decryption Tests ---\")\n",
        "for size in sizes:\n",
        "    data = data_dict[size]\n",
        "\n",
        "    if len(data) > rsa_limit:\n",
        "        print(f\"Size {size} bytes - Skipped (Exceeds RSA limit of {rsa_limit} bytes)\")\n",
        "        continue\n",
        "\n",
        "    start_time = time.time()\n",
        "    encrypted_data = rsa_cipher_encrypt.encrypt(data)\n",
        "    encrypt_time = time.time() - start_time\n",
        "\n",
        "    start_time = time.time()\n",
        "    decrypted_data = rsa_cipher_decrypt.decrypt(encrypted_data)\n",
        "    decrypt_time = time.time() - start_time\n",
        "\n",
        "    assert decrypted_data == data, \"RSA decryption mismatch!\"\n",
        "    print(f\"Size {size} | Encrypt Time: {encrypt_time:.6f}s | Decrypt Time: {decrypt_time:.6f}s\")"
      ],
      "metadata": {
        "colab": {
          "base_uri": "https://localhost:8080/"
        },
        "id": "vGX-oe36Vp-F",
        "outputId": "1b163232-8c50-4620-ec86-1f85d414c0d2"
      },
      "execution_count": null,
      "outputs": [
        {
          "output_type": "stream",
          "name": "stdout",
          "text": [
            "\n",
            "--- RSA Encryption/Decryption Tests ---\n",
            "Size 1 | Encrypt Time: 0.002578s | Decrypt Time: 0.011203s\n",
            "Size 4 | Encrypt Time: 0.002184s | Decrypt Time: 0.010790s\n",
            "Size 8 | Encrypt Time: 0.002199s | Decrypt Time: 0.011237s\n",
            "Size 16 | Encrypt Time: 0.005231s | Decrypt Time: 0.010945s\n",
            "Size 32 | Encrypt Time: 0.002170s | Decrypt Time: 0.011196s\n",
            "Size 64 | Encrypt Time: 0.002518s | Decrypt Time: 0.010921s\n",
            "Size 128 | Encrypt Time: 0.003849s | Decrypt Time: 0.012062s\n",
            "Size 256 | Encrypt Time: 0.002278s | Decrypt Time: 0.011253s\n",
            "Size 512 bytes - Skipped (Exceeds RSA limit of 470 bytes)\n",
            "Size 1024 bytes - Skipped (Exceeds RSA limit of 470 bytes)\n",
            "Size 2048 bytes - Skipped (Exceeds RSA limit of 470 bytes)\n",
            "Size 4096 bytes - Skipped (Exceeds RSA limit of 470 bytes)\n",
            "Size 8192 bytes - Skipped (Exceeds RSA limit of 470 bytes)\n",
            "Size 16384 bytes - Skipped (Exceeds RSA limit of 470 bytes)\n",
            "Size 32768 bytes - Skipped (Exceeds RSA limit of 470 bytes)\n",
            "Size 65536 bytes - Skipped (Exceeds RSA limit of 470 bytes)\n",
            "Size 131072 bytes - Skipped (Exceeds RSA limit of 470 bytes)\n",
            "Size 262144 bytes - Skipped (Exceeds RSA limit of 470 bytes)\n",
            "Size 524288 bytes - Skipped (Exceeds RSA limit of 470 bytes)\n",
            "Size 1048576 bytes - Skipped (Exceeds RSA limit of 470 bytes)\n",
            "Size 2097152 bytes - Skipped (Exceeds RSA limit of 470 bytes)\n",
            "Size 4194304 bytes - Skipped (Exceeds RSA limit of 470 bytes)\n",
            "Size 8388608 bytes - Skipped (Exceeds RSA limit of 470 bytes)\n",
            "Size 16777216 bytes - Skipped (Exceeds RSA limit of 470 bytes)\n",
            "Size 33554432 bytes - Skipped (Exceeds RSA limit of 470 bytes)\n",
            "Size 67108864 bytes - Skipped (Exceeds RSA limit of 470 bytes)\n",
            "Size 134217728 bytes - Skipped (Exceeds RSA limit of 470 bytes)\n"
          ]
        }
      ]
    },
    {
      "cell_type": "code",
      "source": [
        "from Crypto.PublicKey import ElGamal\n",
        "from Crypto import Random\n",
        "from Crypto.Random import random\n",
        "import time\n",
        "\n",
        "def gcd(a, b):\n",
        "    if a < b:\n",
        "        return gcd(b, a)\n",
        "    elif a % b == 0:\n",
        "        return b\n",
        "    else:\n",
        "        return gcd(b, a % b)\n",
        "\n",
        "def generate_K(key):\n",
        "    p = int(key.p)\n",
        "    while True:\n",
        "        K = random.StrongRandom().randint(1, p - 2)\n",
        "        if gcd(K, p - 1) == 1:\n",
        "            return K\n",
        "\n",
        "def elgamal_encrypt(pub_key, data):\n",
        "    \"\"\"\n",
        "    Custom ElGamal encryption using the formula:\n",
        "        c1 = g^K mod p\n",
        "        c2 = m * y^K mod p\n",
        "    \"\"\"\n",
        "    m = int.from_bytes(data, byteorder='big')\n",
        "    K = generate_K(pub_key)\n",
        "    p = int(pub_key.p)\n",
        "    g = int(pub_key.g)\n",
        "    y = int(pub_key.y)\n",
        "\n",
        "    c1 = pow(g, K, p)\n",
        "    c2 = (m * pow(y, K, p)) % p\n",
        "    return (c1, c2)\n",
        "\n",
        "def elgamal_decrypt(priv_key, ciphertext, orig_len):\n",
        "    \"\"\"\n",
        "    Custom ElGamal decryption:\n",
        "        s = c1^x mod p\n",
        "        m = c2 * (s^-1 mod p) mod p\n",
        "    \"\"\"\n",
        "    c1, c2 = ciphertext\n",
        "    p = int(priv_key.p)\n",
        "    x = int(priv_key.x)\n",
        "\n",
        "    s = pow(c1, x, p)\n",
        "    s_inv = pow(s, -1, p)\n",
        "    m = (c2 * s_inv) % p\n",
        "    return m.to_bytes(orig_len, byteorder='big')\n",
        "\n",
        "elgamal_key = ElGamal.generate(1024, Random.new().read)\n",
        "public_key = elgamal_key.publickey()\n",
        "\n",
        "elgamal_limit = (int(elgamal_key.p).bit_length() - 1) // 8\n",
        "\n",
        "print(f\"\\n--- ElGamal Encryption/Decryption Tests ---\")\n",
        "print(f\"ElGamal key limit: {elgamal_limit} bytes\")\n",
        "\n",
        "for size in sizes:\n",
        "    data = data_dict[size]\n",
        "    if len(data) > elgamal_limit:\n",
        "        print(f\"Size {size} bytes - Skipped (Exceeds ElGamal limit of {elgamal_limit} bytes)\")\n",
        "        continue\n",
        "\n",
        "    start_time = time.time()\n",
        "    ciphertext = elgamal_encrypt(public_key, data)\n",
        "    encrypt_time = time.time() - start_time\n",
        "\n",
        "    start_time = time.time()\n",
        "    decrypted_data = elgamal_decrypt(elgamal_key, ciphertext, len(data))\n",
        "    decrypt_time = time.time() - start_time\n",
        "\n",
        "    assert decrypted_data == data, \"ElGamal decryption mismatch!\"\n",
        "    print(f\"Size {size} bytes | Encrypt Time: {encrypt_time:.6f}s | Decrypt Time: {decrypt_time:.6f}s\")\n"
      ],
      "metadata": {
        "colab": {
          "base_uri": "https://localhost:8080/"
        },
        "id": "VEmS591fXgWd",
        "outputId": "3c0eab1c-47ce-4c6f-b5b0-3e444b0f43c3"
      },
      "execution_count": null,
      "outputs": [
        {
          "output_type": "stream",
          "name": "stdout",
          "text": [
            "\n",
            "--- ElGamal Encryption/Decryption Tests ---\n",
            "ElGamal key limit: 127 bytes\n",
            "Size 1 bytes | Encrypt Time: 0.014506s | Decrypt Time: 0.006147s\n",
            "Size 4 bytes | Encrypt Time: 0.013245s | Decrypt Time: 0.006269s\n",
            "Size 8 bytes | Encrypt Time: 0.014564s | Decrypt Time: 0.006165s\n",
            "Size 16 bytes | Encrypt Time: 0.013870s | Decrypt Time: 0.006178s\n",
            "Size 32 bytes | Encrypt Time: 0.014082s | Decrypt Time: 0.006099s\n",
            "Size 64 bytes | Encrypt Time: 0.013939s | Decrypt Time: 0.006090s\n",
            "Size 128 bytes - Skipped (Exceeds ElGamal limit of 127 bytes)\n",
            "Size 256 bytes - Skipped (Exceeds ElGamal limit of 127 bytes)\n",
            "Size 512 bytes - Skipped (Exceeds ElGamal limit of 127 bytes)\n",
            "Size 1024 bytes - Skipped (Exceeds ElGamal limit of 127 bytes)\n",
            "Size 2048 bytes - Skipped (Exceeds ElGamal limit of 127 bytes)\n",
            "Size 4096 bytes - Skipped (Exceeds ElGamal limit of 127 bytes)\n",
            "Size 8192 bytes - Skipped (Exceeds ElGamal limit of 127 bytes)\n",
            "Size 16384 bytes - Skipped (Exceeds ElGamal limit of 127 bytes)\n",
            "Size 32768 bytes - Skipped (Exceeds ElGamal limit of 127 bytes)\n",
            "Size 65536 bytes - Skipped (Exceeds ElGamal limit of 127 bytes)\n",
            "Size 131072 bytes - Skipped (Exceeds ElGamal limit of 127 bytes)\n",
            "Size 262144 bytes - Skipped (Exceeds ElGamal limit of 127 bytes)\n",
            "Size 524288 bytes - Skipped (Exceeds ElGamal limit of 127 bytes)\n",
            "Size 1048576 bytes - Skipped (Exceeds ElGamal limit of 127 bytes)\n",
            "Size 2097152 bytes - Skipped (Exceeds ElGamal limit of 127 bytes)\n",
            "Size 4194304 bytes - Skipped (Exceeds ElGamal limit of 127 bytes)\n",
            "Size 8388608 bytes - Skipped (Exceeds ElGamal limit of 127 bytes)\n",
            "Size 16777216 bytes - Skipped (Exceeds ElGamal limit of 127 bytes)\n",
            "Size 33554432 bytes - Skipped (Exceeds ElGamal limit of 127 bytes)\n",
            "Size 67108864 bytes - Skipped (Exceeds ElGamal limit of 127 bytes)\n",
            "Size 134217728 bytes - Skipped (Exceeds ElGamal limit of 127 bytes)\n"
          ]
        }
      ]
    }
  ]
}